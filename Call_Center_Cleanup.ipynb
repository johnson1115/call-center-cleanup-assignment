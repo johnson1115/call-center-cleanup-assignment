{
 "cells": [
  {
   "cell_type": "markdown",
   "id": "331a1c4f",
   "metadata": {},
   "source": [
    "# Call Center Cleanup\n",
    "\n",
    "For this assignment, we will be working with call center data. You can start working on the assignment after the first lesson on Exploratory Data Analysis. Make sure to read the whole assignment before starting anything! As you code along in the Jupyter notebook, you are asked to make note of the results of your analysis. Do so by clicking on the results box and adding your notes beside each question.\n",
    "\n",
    "## Business Issue and Understanding\n",
    "\n",
    "You are working for a company that has two call centers: the North Call Center and the South Call Center. The company is looking to possibly hire five additional reps to enhance customer experience. Your task is to explore how efficient the current reps are in each branch to determine which branch would benefit from additional assistance.\n",
    "\n",
    "### How the Call Center Works\n",
    "\n",
    "Call center representatives are assigned queues. When calls are assigned to a queue, the call is assigned to the next person in line in the queue. After a call is assigned to a representative, the amount of time between assignment and the call starting is divided into busy minutes and not ready minutes. If the call is incoming and a customer is waiting on the phone for a rep, the time is split into three categories: busy minutes, not ready minutes, and incoming call wait time. Once the rep has the customer on the phone, there might be during call wait time, where the call is put on hold while the rep gets an answer for the customer.\n",
    "\n",
    "### Notes about the Dataset\n",
    "\n",
    "If you haven't worked in a call center before, these notes might help you throughout your analysis.\n",
    "\n",
    "* The call purpose is tagged for each call.\n",
    "* The time of the call is tagged in 1 hour blocks starting at 9:00 AM and ending at 5:00 PM.\n",
    "* Calls are tagged as incoming or outgoing.\n",
    "* Reps are assigned to queues. When the reps are working, they take calls in the order of their queue.\n",
    "* A call that is dropped due to technical error or missed by the center because they have reached maximum capacity is a lost call.\n",
    "* An abandoned call is when the customer hangs up because they have been waiting for too long.\n",
    "* Busy Minutes: the amount of time after a call comes in or needs to go out where the assigned rep is not available because they are busy with other customers.\n",
    "* Not Ready Minutes: the amount of time after a call comes in or needs to go out where the assigned rep is not available because they are not ready (for example, getting water).\n",
    "* Incoming Wait Time - amount of time after assigned rep is available to take the call customer waits for representative to pick up a call. This is tracked in seconds.\n",
    "* During Call Wait Time - amount of time during call that customer has to wait for representative\n",
    "\n",
    "## Getting Started\n",
    "\n",
    "You have two CSVs at your disposal, `NorthCallCenter.csv` and `SouthCallCenter.csv`. Import the appropriate libraries and create two dataframes, one called `north_df` and one called `south_df`."
   ]
  },
  {
   "cell_type": "code",
   "execution_count": 389,
   "id": "f362436b",
   "metadata": {},
   "outputs": [
    {
     "data": {
      "text/html": [
       "<div>\n",
       "<style scoped>\n",
       "    .dataframe tbody tr th:only-of-type {\n",
       "        vertical-align: middle;\n",
       "    }\n",
       "\n",
       "    .dataframe tbody tr th {\n",
       "        vertical-align: top;\n",
       "    }\n",
       "\n",
       "    .dataframe thead th {\n",
       "        text-align: right;\n",
       "    }\n",
       "</style>\n",
       "<table border=\"1\" class=\"dataframe\">\n",
       "  <thead>\n",
       "    <tr style=\"text-align: right;\">\n",
       "      <th></th>\n",
       "      <th>Unnamed: 0</th>\n",
       "      <th>Branch</th>\n",
       "      <th>Call Purpose</th>\n",
       "      <th>Time Block</th>\n",
       "      <th>Incoming or Outgoing</th>\n",
       "      <th>Queue</th>\n",
       "      <th>Rep ID</th>\n",
       "      <th>Sale</th>\n",
       "      <th>Lost Call</th>\n",
       "      <th>Abandoned</th>\n",
       "      <th>Busy Minutes</th>\n",
       "      <th>Not Ready Minutes</th>\n",
       "      <th>Incoming Wait Time</th>\n",
       "      <th>During Call Wait Time</th>\n",
       "      <th>Calls</th>\n",
       "    </tr>\n",
       "  </thead>\n",
       "  <tbody>\n",
       "    <tr>\n",
       "      <th>0</th>\n",
       "      <td>0</td>\n",
       "      <td>North</td>\n",
       "      <td>Complaint</td>\n",
       "      <td>9:00 AM</td>\n",
       "      <td>Incoming</td>\n",
       "      <td>B</td>\n",
       "      <td>Brent</td>\n",
       "      <td>NO</td>\n",
       "      <td>0</td>\n",
       "      <td>1</td>\n",
       "      <td>9</td>\n",
       "      <td>2</td>\n",
       "      <td>1.0</td>\n",
       "      <td>4</td>\n",
       "      <td>1</td>\n",
       "    </tr>\n",
       "    <tr>\n",
       "      <th>1</th>\n",
       "      <td>1</td>\n",
       "      <td>North</td>\n",
       "      <td>Sales Support</td>\n",
       "      <td>11:00 AM</td>\n",
       "      <td>Incoming</td>\n",
       "      <td>A</td>\n",
       "      <td>Cam</td>\n",
       "      <td>NO</td>\n",
       "      <td>0</td>\n",
       "      <td>0</td>\n",
       "      <td>11</td>\n",
       "      <td>1</td>\n",
       "      <td>1.0</td>\n",
       "      <td>3</td>\n",
       "      <td>1</td>\n",
       "    </tr>\n",
       "    <tr>\n",
       "      <th>2</th>\n",
       "      <td>2</td>\n",
       "      <td>North</td>\n",
       "      <td>Sales Support</td>\n",
       "      <td>11:00 AM</td>\n",
       "      <td>Incoming</td>\n",
       "      <td>B</td>\n",
       "      <td>Todd</td>\n",
       "      <td>NO</td>\n",
       "      <td>0</td>\n",
       "      <td>0</td>\n",
       "      <td>9</td>\n",
       "      <td>3</td>\n",
       "      <td>1.0</td>\n",
       "      <td>3</td>\n",
       "      <td>1</td>\n",
       "    </tr>\n",
       "    <tr>\n",
       "      <th>3</th>\n",
       "      <td>3</td>\n",
       "      <td>North</td>\n",
       "      <td>Sales Support</td>\n",
       "      <td>4:00 PM</td>\n",
       "      <td>Incoming</td>\n",
       "      <td>B</td>\n",
       "      <td>Brent</td>\n",
       "      <td>NO</td>\n",
       "      <td>0</td>\n",
       "      <td>0</td>\n",
       "      <td>11</td>\n",
       "      <td>2</td>\n",
       "      <td>1.0</td>\n",
       "      <td>4</td>\n",
       "      <td>1</td>\n",
       "    </tr>\n",
       "    <tr>\n",
       "      <th>4</th>\n",
       "      <td>4</td>\n",
       "      <td>North</td>\n",
       "      <td>Product Support</td>\n",
       "      <td>12:00 PM</td>\n",
       "      <td>Incoming</td>\n",
       "      <td>B</td>\n",
       "      <td>Brent</td>\n",
       "      <td>NO</td>\n",
       "      <td>0</td>\n",
       "      <td>0</td>\n",
       "      <td>8</td>\n",
       "      <td>2</td>\n",
       "      <td>1.0</td>\n",
       "      <td>4</td>\n",
       "      <td>1</td>\n",
       "    </tr>\n",
       "  </tbody>\n",
       "</table>\n",
       "</div>"
      ],
      "text/plain": [
       "   Unnamed: 0 Branch     Call Purpose Time Block Incoming or Outgoing Queue  \\\n",
       "0           0  North        Complaint    9:00 AM             Incoming     B   \n",
       "1           1  North    Sales Support   11:00 AM             Incoming     A   \n",
       "2           2  North    Sales Support   11:00 AM             Incoming     B   \n",
       "3           3  North    Sales Support    4:00 PM             Incoming     B   \n",
       "4           4  North  Product Support   12:00 PM             Incoming     B   \n",
       "\n",
       "  Rep ID Sale  Lost Call  Abandoned  Busy Minutes  Not Ready Minutes  \\\n",
       "0  Brent   NO          0          1             9                  2   \n",
       "1    Cam   NO          0          0            11                  1   \n",
       "2   Todd   NO          0          0             9                  3   \n",
       "3  Brent   NO          0          0            11                  2   \n",
       "4  Brent   NO          0          0             8                  2   \n",
       "\n",
       "   Incoming Wait Time  During Call Wait Time  Calls  \n",
       "0                 1.0                      4      1  \n",
       "1                 1.0                      3      1  \n",
       "2                 1.0                      3      1  \n",
       "3                 1.0                      4      1  \n",
       "4                 1.0                      4      1  "
      ]
     },
     "execution_count": 389,
     "metadata": {},
     "output_type": "execute_result"
    }
   ],
   "source": [
    "# Import the appropriate libraries with aliases\n",
    "import pandas as pd\n",
    "import numpy as np\n",
    "\n",
    "# Create two new dataframes\n",
    "north_call_df = pd.read_csv('NorthCallCenter.csv')\n",
    "south_call_df = pd.read_csv('SouthCallCenter.csv')\n",
    "\n",
    "#print first 5 rows north df\n",
    "north_call_df.head()\n",
    "\n",
    "# print info north df\n",
    "#north_call_df.info()"
   ]
  },
  {
   "cell_type": "markdown",
   "id": "5f71a61a",
   "metadata": {},
   "source": [
    "# <span style=\"background-color:orangered; color:orangered;\">- - - - - - - - - - - - - - - - - - - - - - - - - - - - - - - - - - - - - - - - - - - - - - - - - - - - - - - - - - - - - - - - - - - - - - - - - - - - - - - - - - - - - - - - -</span>"
   ]
  },
  {
   "cell_type": "markdown",
   "id": "b4d3484b",
   "metadata": {},
   "source": [
    "## Exploratory Data Analysis\n",
    "\n",
    "Time to do some EDA! In the process of learning more about the two datasets, answer the following questions. In the code blocks below enter the code used to solve the question.  At the end of the section record your answers by double clicking where asked."
   ]
  },
  {
   "cell_type": "markdown",
   "id": "76898991",
   "metadata": {},
   "source": [
    "#### EDA Question 1A:  How many reps are in the North branch?  "
   ]
  },
  {
   "cell_type": "code",
   "execution_count": 390,
   "id": "ce3eb5e4",
   "metadata": {},
   "outputs": [
    {
     "data": {
      "text/plain": [
       "Unnamed: 0               245\n",
       "Branch                     1\n",
       "Call Purpose               3\n",
       "Time Block                 9\n",
       "Incoming or Outgoing       2\n",
       "Queue                      2\n",
       "Rep ID                     9\n",
       "Sale                       3\n",
       "Lost Call                  2\n",
       "Abandoned                  2\n",
       "Busy Minutes               5\n",
       "Not Ready Minutes          3\n",
       "Incoming Wait Time         5\n",
       "During Call Wait Time      3\n",
       "Calls                      1\n",
       "dtype: int64"
      ]
     },
     "execution_count": 390,
     "metadata": {},
     "output_type": "execute_result"
    }
   ],
   "source": [
    "#Code Used: There are 9 reps in the North Branch\n",
    "north_call_df['Rep ID'].unique()\n",
    "north_call_df.nunique()\n",
    "#Tried both methods of code and both show the same result. Second method works best"
   ]
  },
  {
   "cell_type": "markdown",
   "id": "2a9b34d8",
   "metadata": {},
   "source": [
    "#### EDA Question 1B:  How many reps are in the South branch?  "
   ]
  },
  {
   "cell_type": "code",
   "execution_count": 391,
   "id": "3c715bbf",
   "metadata": {},
   "outputs": [
    {
     "data": {
      "text/plain": [
       "Unnamed: 0               314\n",
       "Branch                     1\n",
       "Call Purpose               3\n",
       "Time Block                 9\n",
       "Incoming or Outgoing       2\n",
       "Queue                      2\n",
       "Rep ID                    11\n",
       "Sale                       2\n",
       "Lost Call                  2\n",
       "Abandoned                  2\n",
       "Busy Minutes               5\n",
       "Not Ready Minutes          3\n",
       "Incoming Wait Time         5\n",
       "During Call Wait Time      3\n",
       "Calls                      1\n",
       "dtype: int64"
      ]
     },
     "execution_count": 391,
     "metadata": {},
     "output_type": "execute_result"
    }
   ],
   "source": [
    "#Code Used: There are 11 reps in the South branch\n",
    "south_call_df.nunique()"
   ]
  },
  {
   "cell_type": "markdown",
   "id": "a872f045",
   "metadata": {},
   "source": [
    "#### EDA Question 2A:  What is the average busy minutes, not ready minutes, incoming wait time, and during call wait time for the North branch? "
   ]
  },
  {
   "cell_type": "code",
   "execution_count": 392,
   "id": "3759305f",
   "metadata": {},
   "outputs": [
    {
     "data": {
      "text/plain": [
       "Busy Minutes             9.987755\n",
       "Not Ready Minutes        1.914286\n",
       "Incoming Wait Time       3.048780\n",
       "During Call Wait Time    2.967347\n",
       "dtype: float64"
      ]
     },
     "execution_count": 392,
     "metadata": {},
     "output_type": "execute_result"
    }
   ],
   "source": [
    "#Code Used: north_call_df[['column_name1', 'column_name2', ect...]].mean()\n",
    "\n",
    "#Avg. Busy Min. - 9.987755102040817\n",
    "#Avg. Not Ready Min. - 1.9142857142857144\n",
    "#Avg. Incoming Wait Time - 3.048780487804878\n",
    "#Avg. Durning Call Wait Time - 2.9673469387755103\n",
    "\n",
    "north_call_df[['Busy Minutes', 'Not Ready Minutes', 'Incoming Wait Time', 'During Call Wait Time']].mean()"
   ]
  },
  {
   "cell_type": "markdown",
   "id": "3851cf3e",
   "metadata": {},
   "source": [
    "#### EDA Question 2B:  What is the average busy minutes, not ready minutes, incoming wait time, and during call wait time for the South branch? "
   ]
  },
  {
   "cell_type": "code",
   "execution_count": 393,
   "id": "a77ec152",
   "metadata": {},
   "outputs": [
    {
     "data": {
      "text/plain": [
       "Busy Minutes             10.054140\n",
       "Not Ready Minutes         1.910828\n",
       "Incoming Wait Time        3.000000\n",
       "During Call Wait Time     3.076433\n",
       "dtype: float64"
      ]
     },
     "execution_count": 393,
     "metadata": {},
     "output_type": "execute_result"
    }
   ],
   "source": [
    "#Code Used: south_call_df[['column_name1', 'columns_name2', ect...]].mean()\n",
    "\n",
    "#Avg. Busy Min. - 10.054140127388536\n",
    "#Avg. Not Ready Min. - 1.910828025477707 \n",
    "#Avg. Incoming Wait Time - 3.0\n",
    "#Avg. Durning Call Wait Time - 3.0764331210191083\n",
    "\n",
    "south_call_df[['Busy Minutes', 'Not Ready Minutes', 'Incoming Wait Time', 'During Call Wait Time']].mean()"
   ]
  },
  {
   "cell_type": "markdown",
   "id": "75915553",
   "metadata": {},
   "source": [
    "#### EDA Question 3:  What is the number of calls taken for each time block(Both North and South combined)?"
   ]
  },
  {
   "cell_type": "code",
   "execution_count": 394,
   "id": "49566936",
   "metadata": {},
   "outputs": [
    {
     "data": {
      "text/plain": [
       "10:00 AM     99\n",
       "11:00 AM     56\n",
       "12:00 PM    120\n",
       "1:00 PM      40\n",
       "2:00 PM      65\n",
       "3:00 PM      73\n",
       "4:00 PM      53\n",
       "5:00 PM      43\n",
       "9:00 AM      10\n",
       "Name: Time Block, dtype: int64"
      ]
     },
     "execution_count": 394,
     "metadata": {},
     "output_type": "execute_result"
    }
   ],
   "source": [
    "# Code Used:\n",
    "\n",
    "total_calls = (north_call_df['Time Block'].value_counts()) + (south_call_df['Time Block'].value_counts())\n",
    "total_calls\n"
   ]
  },
  {
   "cell_type": "markdown",
   "id": "40b1fd3f",
   "metadata": {},
   "source": [
    "##### Record your answers for the EDA section by double clicking here:\n",
    "- 1a) Reps in the North Branch = 9\n",
    "- 1b) Reps in the South Branch = 11\n",
    "\n",
    "\n",
    "- 2a) North Branch, (round to the nearest hundredth):\n",
    "> - Busy Minutes = 9.99\n",
    "> - Not Ready Minutes = 1.91\n",
    "> - Incoming Wait Time = 3.05\n",
    "> - During Call Wait Time = 2.97\n",
    "- 2b) South Branch, (round to the nearest hundredth):\n",
    "> - Busy Minutes = 10.05\n",
    "> - Not Ready Minutes = 1.91\n",
    "> - Incoming Wait Time = 3.00\n",
    "> - During Call Wait Time = 3.08\n",
    "- 3) Total Calls taken for all branches per time block:\n",
    "> - 9:00AM   = 10\n",
    "> - 10:00AM  = 99\n",
    "> - 11:00AM  = 56\n",
    "> - 12:00PM  = 120\n",
    "> - 1:00PM   = 40\n",
    "> - 2:00PM   = 65\n",
    "> - 3:00PM   = 73\n",
    "> - 4:00PM   = 53\n",
    "> - 5:00PM   = 43\n",
    "\n"
   ]
  },
  {
   "cell_type": "markdown",
   "id": "446048d3",
   "metadata": {},
   "source": [
    "<span style=\"background-color:orangered; color:orangered;\">- - - - - - - - - - - - - - - - - - - - - - - - - - - - - - - - - - - - - - - - - - - - - - - - - - - - - - - - - - - - - - - - - - - - - - - - - - - - - - - - - - - - - - - - -</span>"
   ]
  },
  {
   "cell_type": "markdown",
   "id": "366bfb19",
   "metadata": {},
   "source": [
    "## Cleaning Your Data \n",
    "Now you need to clean up the datasets. When cleaning the datasets, you may find that there isn't dirty data to clean. That is okay! Some questions you need to answer about the data sets.\n",
    "* Add additional code blocks as needed to show how you came to your conclusions. Add comments in your code blocks to help others understand your thinking. "
   ]
  },
  {
   "cell_type": "markdown",
   "id": "c3564d69",
   "metadata": {},
   "source": [
    "#### Cleaning Question 1:  Is there any missing data and if yes explain what you would do with the missing data and why?\n",
    "##### Record your answer by double clicking here:\n",
    "> Your Answer: There was missing data for \"Incoming Wait Time\" for both files, I went a head and deleted the data by dropping the column.  I felt that the data that was there was not significant enough to make much of a difference to the whole thing. UPDATE---I ended up commenting those lines of code out, cause I ended up using the 'Incoming Wait Time\" later in the visualization section.   "
   ]
  },
  {
   "cell_type": "code",
   "execution_count": 395,
   "id": "b77fb574",
   "metadata": {},
   "outputs": [
    {
     "data": {
      "text/plain": [
       "Unnamed: 0                 0\n",
       "Branch                     0\n",
       "Call Purpose               0\n",
       "Time Block                 0\n",
       "Incoming or Outgoing       0\n",
       "Queue                      0\n",
       "Rep ID                     0\n",
       "Sale                       0\n",
       "Lost Call                  0\n",
       "Abandoned                  0\n",
       "Busy Minutes               0\n",
       "Not Ready Minutes          0\n",
       "Incoming Wait Time       163\n",
       "During Call Wait Time      0\n",
       "Calls                      0\n",
       "dtype: int64"
      ]
     },
     "execution_count": 395,
     "metadata": {},
     "output_type": "execute_result"
    }
   ],
   "source": [
    "# Code Used\n",
    "# Add Additional Cells as needed.\n",
    "north_call_df.isnull().sum()"
   ]
  },
  {
   "cell_type": "code",
   "execution_count": 396,
   "id": "7f9584b2",
   "metadata": {},
   "outputs": [],
   "source": [
    "#north_call_df['Incoming Wait Time'].isnull().value_counts()"
   ]
  },
  {
   "cell_type": "code",
   "execution_count": 397,
   "id": "d06dba9e",
   "metadata": {},
   "outputs": [],
   "source": [
    "# to_drop_north = ['Incoming Wait Time']\n",
    "# north_call_df.drop(to_drop_north, inplace=True, axis=1)\n",
    "# north_call_df.nunique()"
   ]
  },
  {
   "cell_type": "code",
   "execution_count": 398,
   "id": "1204b9b8",
   "metadata": {},
   "outputs": [],
   "source": [
    "#south_call_df.isnull().sum()"
   ]
  },
  {
   "cell_type": "code",
   "execution_count": 399,
   "id": "4c127e0b",
   "metadata": {},
   "outputs": [],
   "source": [
    "#south_call_df['Incoming Wait Time'].isnull().value_counts()"
   ]
  },
  {
   "cell_type": "code",
   "execution_count": 400,
   "id": "06d74413",
   "metadata": {},
   "outputs": [],
   "source": [
    "#south_call_df['Incoming Wait Time'].value_counts()"
   ]
  },
  {
   "cell_type": "code",
   "execution_count": null,
   "id": "7927f43e",
   "metadata": {},
   "outputs": [],
   "source": []
  },
  {
   "cell_type": "code",
   "execution_count": 401,
   "id": "b259bce5",
   "metadata": {},
   "outputs": [],
   "source": [
    "#south_call_df.nunique()"
   ]
  },
  {
   "cell_type": "markdown",
   "id": "dc47f020",
   "metadata": {},
   "source": [
    "#### Cleaning Question 2:  In the North data set, there are two separate \"YES\" values for a sale. Why and how did you rectify the issue?\n",
    "##### Record your answer by double clicking here:\n",
    "> Your Answer: The strip() method combines the yes vaiables then strips the blank space that is left.  "
   ]
  },
  {
   "cell_type": "code",
   "execution_count": null,
   "id": "cdc871a9",
   "metadata": {},
   "outputs": [],
   "source": []
  },
  {
   "cell_type": "code",
   "execution_count": 405,
   "id": "4e0fbad6",
   "metadata": {},
   "outputs": [
    {
     "data": {
      "text/plain": [
       "NO     234\n",
       "YES     11\n",
       "Name: Sale, dtype: int64"
      ]
     },
     "execution_count": 405,
     "metadata": {},
     "output_type": "execute_result"
    }
   ],
   "source": [
    "#Code Used\n",
    "# Add Additional Cells as needed.\n",
    "north_call_df.nunique()\n",
    "north_call_df['Sale'].value_counts()\n",
    "\n",
    "north_call_df['Sale'] = north_call_df['Sale'].str.strip()\n",
    "north_call_df['Sale'].value_counts()"
   ]
  },
  {
   "cell_type": "markdown",
   "id": "715f375a",
   "metadata": {},
   "source": [
    "#### Cleaning Question 3:  Are there duplicates in the two data sets? If there are, how did you handle them?\n",
    "##### Record your answer by double clicking here:\n",
    "> Your Answer: I did not find any duplicates."
   ]
  },
  {
   "cell_type": "code",
   "execution_count": 406,
   "id": "67d79286",
   "metadata": {},
   "outputs": [
    {
     "data": {
      "text/html": [
       "<div>\n",
       "<style scoped>\n",
       "    .dataframe tbody tr th:only-of-type {\n",
       "        vertical-align: middle;\n",
       "    }\n",
       "\n",
       "    .dataframe tbody tr th {\n",
       "        vertical-align: top;\n",
       "    }\n",
       "\n",
       "    .dataframe thead th {\n",
       "        text-align: right;\n",
       "    }\n",
       "</style>\n",
       "<table border=\"1\" class=\"dataframe\">\n",
       "  <thead>\n",
       "    <tr style=\"text-align: right;\">\n",
       "      <th></th>\n",
       "      <th>Unnamed: 0</th>\n",
       "      <th>Branch</th>\n",
       "      <th>Call Purpose</th>\n",
       "      <th>Time Block</th>\n",
       "      <th>Incoming or Outgoing</th>\n",
       "      <th>Queue</th>\n",
       "      <th>Rep ID</th>\n",
       "      <th>Sale</th>\n",
       "      <th>Lost Call</th>\n",
       "      <th>Abandoned</th>\n",
       "      <th>Busy Minutes</th>\n",
       "      <th>Not Ready Minutes</th>\n",
       "      <th>Incoming Wait Time</th>\n",
       "      <th>During Call Wait Time</th>\n",
       "      <th>Calls</th>\n",
       "    </tr>\n",
       "  </thead>\n",
       "  <tbody>\n",
       "  </tbody>\n",
       "</table>\n",
       "</div>"
      ],
      "text/plain": [
       "Empty DataFrame\n",
       "Columns: [Unnamed: 0, Branch, Call Purpose, Time Block, Incoming or Outgoing, Queue, Rep ID, Sale, Lost Call, Abandoned, Busy Minutes, Not Ready Minutes, Incoming Wait Time, During Call Wait Time, Calls]\n",
       "Index: []"
      ]
     },
     "execution_count": 406,
     "metadata": {},
     "output_type": "execute_result"
    }
   ],
   "source": [
    "north_duplicates = north_call_df[north_call_df.duplicated()]\n",
    "south_duplicates = south_call_df[south_call_df.duplicated()]\n",
    "north_duplicates\n",
    "south_duplicates"
   ]
  },
  {
   "cell_type": "code",
   "execution_count": 407,
   "id": "2323673a",
   "metadata": {},
   "outputs": [
    {
     "data": {
      "text/plain": [
       "0"
      ]
     },
     "execution_count": 407,
     "metadata": {},
     "output_type": "execute_result"
    }
   ],
   "source": [
    "#Code Used\n",
    "# Add Additional Cells as needed.\n",
    "north_call_df.duplicated().sum()"
   ]
  },
  {
   "cell_type": "code",
   "execution_count": 408,
   "id": "dec756cf",
   "metadata": {},
   "outputs": [
    {
     "data": {
      "text/plain": [
       "0"
      ]
     },
     "execution_count": 408,
     "metadata": {},
     "output_type": "execute_result"
    }
   ],
   "source": [
    "south_call_df.duplicated().sum()"
   ]
  },
  {
   "cell_type": "markdown",
   "id": "8ffaa865",
   "metadata": {},
   "source": [
    "#### Cleaning Question 4:  Is any of the data in the two data sets unnecessary? If yes, how did you handle it?\n",
    "##### Record your answer by double clicking here:\n",
    "> Your Answer: I decided to drop columns \"Lost Call\" and \"Unnamed: 0\". Both columns seemed unnecessary.  \"Lost Call\" was not needed for our analysis.  \"Unnamed\" didn't provide any information besides an index for the calls that already existed. I did attempt to look for unnecessary data using the code below but I didn't have any luck using it.  So I went through what the questions were that I would be working with and decided to remove the columns that way. "
   ]
  },
  {
   "cell_type": "code",
   "execution_count": 409,
   "id": "f7742189",
   "metadata": {},
   "outputs": [
    {
     "name": "stdout",
     "output_type": "stream",
     "text": [
      "Branch: 100.00000%\n",
      "North    245\n",
      "Name: Branch, dtype: int64\n",
      "\n",
      "Sale: 95.51020%\n",
      "NO     234\n",
      "YES     11\n",
      "Name: Sale, dtype: int64\n",
      "\n",
      "Lost Call: 97.95918%\n",
      "0    240\n",
      "1      5\n",
      "Name: Lost Call, dtype: int64\n",
      "\n",
      "Abandoned: 97.14286%\n",
      "0    238\n",
      "1      7\n",
      "Name: Abandoned, dtype: int64\n",
      "\n",
      "Calls: 100.00000%\n",
      "1    245\n",
      "Name: Calls, dtype: int64\n",
      "\n"
     ]
    }
   ],
   "source": [
    "north_num_rows = len(north_call_df.index)\n",
    "north_low_information_cols = [] #\n",
    "\n",
    "for col in north_call_df.columns:\n",
    "    cnts = north_call_df[col].value_counts(dropna=False)\n",
    "    top_pct = (cnts/north_num_rows).iloc[0]\n",
    "    \n",
    "    if top_pct > 0.95:\n",
    "        north_low_information_cols.append(col)\n",
    "        print('{0}: {1:.5f}%'.format(col, top_pct*100))\n",
    "        print(cnts)\n",
    "        print()"
   ]
  },
  {
   "cell_type": "code",
   "execution_count": 410,
   "id": "78b45e70",
   "metadata": {},
   "outputs": [
    {
     "name": "stdout",
     "output_type": "stream",
     "text": [
      "Branch: 100.00000%\n",
      "South    314\n",
      "Name: Branch, dtype: int64\n",
      "\n",
      "Sale: 98.08917%\n",
      "NO     308\n",
      "YES      6\n",
      "Name: Sale, dtype: int64\n",
      "\n",
      "Lost Call: 96.49682%\n",
      "0    303\n",
      "1     11\n",
      "Name: Lost Call, dtype: int64\n",
      "\n",
      "Abandoned: 98.72611%\n",
      "0    310\n",
      "1      4\n",
      "Name: Abandoned, dtype: int64\n",
      "\n",
      "Calls: 100.00000%\n",
      "1    314\n",
      "Name: Calls, dtype: int64\n",
      "\n"
     ]
    }
   ],
   "source": [
    "#Code Used\n",
    "# Add Additional Cells as needed.\n",
    "south_num_rows = len(south_call_df.index)\n",
    "south_low_information_cols = [] #\n",
    "\n",
    "for col in south_call_df.columns:\n",
    "    cnts = south_call_df[col].value_counts(dropna=False)\n",
    "    top_pct = (cnts/south_num_rows).iloc[0]\n",
    "    \n",
    "    if top_pct > 0.95:\n",
    "        south_low_information_cols.append(col)\n",
    "        print('{0}: {1:.5f}%'.format(col, top_pct*100))\n",
    "        print(cnts)\n",
    "        print()"
   ]
  },
  {
   "cell_type": "code",
   "execution_count": 411,
   "id": "019acdeb",
   "metadata": {},
   "outputs": [
    {
     "data": {
      "text/html": [
       "<div>\n",
       "<style scoped>\n",
       "    .dataframe tbody tr th:only-of-type {\n",
       "        vertical-align: middle;\n",
       "    }\n",
       "\n",
       "    .dataframe tbody tr th {\n",
       "        vertical-align: top;\n",
       "    }\n",
       "\n",
       "    .dataframe thead th {\n",
       "        text-align: right;\n",
       "    }\n",
       "</style>\n",
       "<table border=\"1\" class=\"dataframe\">\n",
       "  <thead>\n",
       "    <tr style=\"text-align: right;\">\n",
       "      <th></th>\n",
       "      <th>Branch</th>\n",
       "      <th>Call Purpose</th>\n",
       "      <th>Time Block</th>\n",
       "      <th>Incoming or Outgoing</th>\n",
       "      <th>Queue</th>\n",
       "      <th>Rep ID</th>\n",
       "      <th>Sale</th>\n",
       "      <th>Abandoned</th>\n",
       "      <th>Busy Minutes</th>\n",
       "      <th>Not Ready Minutes</th>\n",
       "      <th>Incoming Wait Time</th>\n",
       "      <th>During Call Wait Time</th>\n",
       "      <th>Calls</th>\n",
       "    </tr>\n",
       "  </thead>\n",
       "  <tbody>\n",
       "    <tr>\n",
       "      <th>0</th>\n",
       "      <td>North</td>\n",
       "      <td>Complaint</td>\n",
       "      <td>9:00 AM</td>\n",
       "      <td>Incoming</td>\n",
       "      <td>B</td>\n",
       "      <td>Brent</td>\n",
       "      <td>NO</td>\n",
       "      <td>1</td>\n",
       "      <td>9</td>\n",
       "      <td>2</td>\n",
       "      <td>1.0</td>\n",
       "      <td>4</td>\n",
       "      <td>1</td>\n",
       "    </tr>\n",
       "    <tr>\n",
       "      <th>1</th>\n",
       "      <td>North</td>\n",
       "      <td>Sales Support</td>\n",
       "      <td>11:00 AM</td>\n",
       "      <td>Incoming</td>\n",
       "      <td>A</td>\n",
       "      <td>Cam</td>\n",
       "      <td>NO</td>\n",
       "      <td>0</td>\n",
       "      <td>11</td>\n",
       "      <td>1</td>\n",
       "      <td>1.0</td>\n",
       "      <td>3</td>\n",
       "      <td>1</td>\n",
       "    </tr>\n",
       "    <tr>\n",
       "      <th>2</th>\n",
       "      <td>North</td>\n",
       "      <td>Sales Support</td>\n",
       "      <td>11:00 AM</td>\n",
       "      <td>Incoming</td>\n",
       "      <td>B</td>\n",
       "      <td>Todd</td>\n",
       "      <td>NO</td>\n",
       "      <td>0</td>\n",
       "      <td>9</td>\n",
       "      <td>3</td>\n",
       "      <td>1.0</td>\n",
       "      <td>3</td>\n",
       "      <td>1</td>\n",
       "    </tr>\n",
       "    <tr>\n",
       "      <th>3</th>\n",
       "      <td>North</td>\n",
       "      <td>Sales Support</td>\n",
       "      <td>4:00 PM</td>\n",
       "      <td>Incoming</td>\n",
       "      <td>B</td>\n",
       "      <td>Brent</td>\n",
       "      <td>NO</td>\n",
       "      <td>0</td>\n",
       "      <td>11</td>\n",
       "      <td>2</td>\n",
       "      <td>1.0</td>\n",
       "      <td>4</td>\n",
       "      <td>1</td>\n",
       "    </tr>\n",
       "    <tr>\n",
       "      <th>4</th>\n",
       "      <td>North</td>\n",
       "      <td>Product Support</td>\n",
       "      <td>12:00 PM</td>\n",
       "      <td>Incoming</td>\n",
       "      <td>B</td>\n",
       "      <td>Brent</td>\n",
       "      <td>NO</td>\n",
       "      <td>0</td>\n",
       "      <td>8</td>\n",
       "      <td>2</td>\n",
       "      <td>1.0</td>\n",
       "      <td>4</td>\n",
       "      <td>1</td>\n",
       "    </tr>\n",
       "  </tbody>\n",
       "</table>\n",
       "</div>"
      ],
      "text/plain": [
       "  Branch     Call Purpose Time Block Incoming or Outgoing Queue Rep ID Sale  \\\n",
       "0  North        Complaint    9:00 AM             Incoming     B  Brent   NO   \n",
       "1  North    Sales Support   11:00 AM             Incoming     A    Cam   NO   \n",
       "2  North    Sales Support   11:00 AM             Incoming     B   Todd   NO   \n",
       "3  North    Sales Support    4:00 PM             Incoming     B  Brent   NO   \n",
       "4  North  Product Support   12:00 PM             Incoming     B  Brent   NO   \n",
       "\n",
       "   Abandoned  Busy Minutes  Not Ready Minutes  Incoming Wait Time  \\\n",
       "0          1             9                  2                 1.0   \n",
       "1          0            11                  1                 1.0   \n",
       "2          0             9                  3                 1.0   \n",
       "3          0            11                  2                 1.0   \n",
       "4          0             8                  2                 1.0   \n",
       "\n",
       "   During Call Wait Time  Calls  \n",
       "0                      4      1  \n",
       "1                      3      1  \n",
       "2                      3      1  \n",
       "3                      4      1  \n",
       "4                      4      1  "
      ]
     },
     "execution_count": 411,
     "metadata": {},
     "output_type": "execute_result"
    }
   ],
   "source": [
    "# Dropping unnecessary Data\n",
    "north_call_df = north_call_df.drop(['Lost Call'], axis=1)\n",
    "north_call_df = north_call_df.drop(['Unnamed: 0'], axis=1)\n",
    "north_call_df.head()"
   ]
  },
  {
   "cell_type": "code",
   "execution_count": 412,
   "id": "c07c9de4",
   "metadata": {},
   "outputs": [
    {
     "data": {
      "text/plain": [
       "NO     234\n",
       "YES     11\n",
       "Name: Sale, dtype: int64"
      ]
     },
     "execution_count": 412,
     "metadata": {},
     "output_type": "execute_result"
    }
   ],
   "source": [
    "north_call_df['Sale'].value_counts()"
   ]
  },
  {
   "cell_type": "code",
   "execution_count": 413,
   "id": "17fa6a0d",
   "metadata": {},
   "outputs": [
    {
     "data": {
      "text/html": [
       "<div>\n",
       "<style scoped>\n",
       "    .dataframe tbody tr th:only-of-type {\n",
       "        vertical-align: middle;\n",
       "    }\n",
       "\n",
       "    .dataframe tbody tr th {\n",
       "        vertical-align: top;\n",
       "    }\n",
       "\n",
       "    .dataframe thead th {\n",
       "        text-align: right;\n",
       "    }\n",
       "</style>\n",
       "<table border=\"1\" class=\"dataframe\">\n",
       "  <thead>\n",
       "    <tr style=\"text-align: right;\">\n",
       "      <th></th>\n",
       "      <th>Branch</th>\n",
       "      <th>Call Purpose</th>\n",
       "      <th>Time Block</th>\n",
       "      <th>Incoming or Outgoing</th>\n",
       "      <th>Queue</th>\n",
       "      <th>Rep ID</th>\n",
       "      <th>Sale</th>\n",
       "      <th>Abandoned</th>\n",
       "      <th>Busy Minutes</th>\n",
       "      <th>Not Ready Minutes</th>\n",
       "      <th>Incoming Wait Time</th>\n",
       "      <th>During Call Wait Time</th>\n",
       "      <th>Calls</th>\n",
       "    </tr>\n",
       "  </thead>\n",
       "  <tbody>\n",
       "    <tr>\n",
       "      <th>0</th>\n",
       "      <td>South</td>\n",
       "      <td>Sales Support</td>\n",
       "      <td>10:00 AM</td>\n",
       "      <td>Incoming</td>\n",
       "      <td>D</td>\n",
       "      <td>Kate</td>\n",
       "      <td>NO</td>\n",
       "      <td>0</td>\n",
       "      <td>9</td>\n",
       "      <td>1</td>\n",
       "      <td>1.0</td>\n",
       "      <td>2</td>\n",
       "      <td>1</td>\n",
       "    </tr>\n",
       "    <tr>\n",
       "      <th>1</th>\n",
       "      <td>South</td>\n",
       "      <td>Sales Support</td>\n",
       "      <td>10:00 AM</td>\n",
       "      <td>Incoming</td>\n",
       "      <td>C</td>\n",
       "      <td>Eric</td>\n",
       "      <td>NO</td>\n",
       "      <td>0</td>\n",
       "      <td>8</td>\n",
       "      <td>2</td>\n",
       "      <td>1.0</td>\n",
       "      <td>4</td>\n",
       "      <td>1</td>\n",
       "    </tr>\n",
       "    <tr>\n",
       "      <th>2</th>\n",
       "      <td>South</td>\n",
       "      <td>Sales Support</td>\n",
       "      <td>10:00 AM</td>\n",
       "      <td>Incoming</td>\n",
       "      <td>C</td>\n",
       "      <td>Susan</td>\n",
       "      <td>NO</td>\n",
       "      <td>0</td>\n",
       "      <td>10</td>\n",
       "      <td>2</td>\n",
       "      <td>1.0</td>\n",
       "      <td>4</td>\n",
       "      <td>1</td>\n",
       "    </tr>\n",
       "    <tr>\n",
       "      <th>3</th>\n",
       "      <td>South</td>\n",
       "      <td>Sales Support</td>\n",
       "      <td>10:00 AM</td>\n",
       "      <td>Incoming</td>\n",
       "      <td>C</td>\n",
       "      <td>Alice</td>\n",
       "      <td>NO</td>\n",
       "      <td>0</td>\n",
       "      <td>12</td>\n",
       "      <td>1</td>\n",
       "      <td>1.0</td>\n",
       "      <td>3</td>\n",
       "      <td>1</td>\n",
       "    </tr>\n",
       "    <tr>\n",
       "      <th>4</th>\n",
       "      <td>South</td>\n",
       "      <td>Sales Support</td>\n",
       "      <td>12:00 PM</td>\n",
       "      <td>Incoming</td>\n",
       "      <td>C</td>\n",
       "      <td>Sandy</td>\n",
       "      <td>NO</td>\n",
       "      <td>0</td>\n",
       "      <td>8</td>\n",
       "      <td>3</td>\n",
       "      <td>1.0</td>\n",
       "      <td>3</td>\n",
       "      <td>1</td>\n",
       "    </tr>\n",
       "  </tbody>\n",
       "</table>\n",
       "</div>"
      ],
      "text/plain": [
       "  Branch   Call Purpose Time Block Incoming or Outgoing Queue Rep ID Sale  \\\n",
       "0  South  Sales Support   10:00 AM             Incoming     D   Kate   NO   \n",
       "1  South  Sales Support   10:00 AM             Incoming     C   Eric   NO   \n",
       "2  South  Sales Support   10:00 AM             Incoming     C  Susan   NO   \n",
       "3  South  Sales Support   10:00 AM             Incoming     C  Alice   NO   \n",
       "4  South  Sales Support   12:00 PM             Incoming     C  Sandy   NO   \n",
       "\n",
       "   Abandoned  Busy Minutes  Not Ready Minutes  Incoming Wait Time  \\\n",
       "0          0             9                  1                 1.0   \n",
       "1          0             8                  2                 1.0   \n",
       "2          0            10                  2                 1.0   \n",
       "3          0            12                  1                 1.0   \n",
       "4          0             8                  3                 1.0   \n",
       "\n",
       "   During Call Wait Time  Calls  \n",
       "0                      2      1  \n",
       "1                      4      1  \n",
       "2                      4      1  \n",
       "3                      3      1  \n",
       "4                      3      1  "
      ]
     },
     "execution_count": 413,
     "metadata": {},
     "output_type": "execute_result"
    }
   ],
   "source": [
    "# Dropping unnecessary Data\n",
    "south_call_df = south_call_df.drop(['Lost Call'], axis=1)\n",
    "south_call_df = south_call_df.drop(['Unnamed: 0'], axis=1)\n",
    "south_call_df.head()"
   ]
  },
  {
   "cell_type": "code",
   "execution_count": null,
   "id": "30511cd0",
   "metadata": {},
   "outputs": [],
   "source": []
  },
  {
   "cell_type": "markdown",
   "id": "f67d89ab",
   "metadata": {},
   "source": [
    "<span style=\"background-color:orangered; color:orangered;\">- - - - - - - - - - - - - - - - - - - - - - - - - - - - - - - - - - - - - - - - - - - - - - - - - - - - - - - - - - - - - - - - - - - - - - - - - - - - - - - - - - - - - - - - -</span>"
   ]
  },
  {
   "cell_type": "markdown",
   "id": "73342a9a",
   "metadata": {},
   "source": [
    "## Data Manipulation\n",
    "Before you begin answering any questions, combine the two datasets together to create a third dataframe called df. You can use this third dataframe to compare the two call centers to company-wide trends.\n",
    "* Add additional code blocks as needed to show how you came to your conclusions. Add comments in your code blocks to help others understand your thinking. Record your answer by double clicking the below cell."
   ]
  },
  {
   "cell_type": "code",
   "execution_count": 414,
   "id": "820de8e5",
   "metadata": {},
   "outputs": [
    {
     "data": {
      "text/plain": [
       "(245, 13)"
      ]
     },
     "execution_count": 414,
     "metadata": {},
     "output_type": "execute_result"
    }
   ],
   "source": [
    "north_call_df.shape #Checking the shape before combining"
   ]
  },
  {
   "cell_type": "code",
   "execution_count": 415,
   "id": "259ce3f7",
   "metadata": {},
   "outputs": [
    {
     "data": {
      "text/plain": [
       "(314, 13)"
      ]
     },
     "execution_count": 415,
     "metadata": {},
     "output_type": "execute_result"
    }
   ],
   "source": [
    "south_call_df.shape #Checking shape before combining"
   ]
  },
  {
   "cell_type": "code",
   "execution_count": 416,
   "id": "e9705c34",
   "metadata": {},
   "outputs": [
    {
     "name": "stdout",
     "output_type": "stream",
     "text": [
      "    Branch     Call Purpose Time Block Incoming or Outgoing Queue  Rep ID  \\\n",
      "0    North        Complaint    9:00 AM             Incoming     B   Brent   \n",
      "1    North    Sales Support   11:00 AM             Incoming     A     Cam   \n",
      "2    North    Sales Support   11:00 AM             Incoming     B    Todd   \n",
      "3    North    Sales Support    4:00 PM             Incoming     B   Brent   \n",
      "4    North  Product Support   12:00 PM             Incoming     B   Brent   \n",
      "..     ...              ...        ...                  ...   ...     ...   \n",
      "309  South  Product Support    5:00 PM             Outgoing     D   Helga   \n",
      "310  South  Product Support    5:00 PM             Outgoing     C   Susan   \n",
      "311  South  Product Support    5:00 PM             Outgoing     C   Sandy   \n",
      "312  South  Product Support    5:00 PM             Outgoing     C    Eric   \n",
      "313  South  Product Support    5:00 PM             Outgoing     D  George   \n",
      "\n",
      "    Sale  Abandoned  Busy Minutes  Not Ready Minutes  Incoming Wait Time  \\\n",
      "0     NO          1             9                  2                 1.0   \n",
      "1     NO          0            11                  1                 1.0   \n",
      "2     NO          0             9                  3                 1.0   \n",
      "3     NO          0            11                  2                 1.0   \n",
      "4     NO          0             8                  2                 1.0   \n",
      "..   ...        ...           ...                ...                 ...   \n",
      "309   NO          0            10                  3                 NaN   \n",
      "310   NO          0            12                  3                 NaN   \n",
      "311   NO          0             9                  3                 NaN   \n",
      "312   NO          0            10                  1                 NaN   \n",
      "313   NO          0            10                  2                 NaN   \n",
      "\n",
      "     During Call Wait Time  Calls  \n",
      "0                        4      1  \n",
      "1                        3      1  \n",
      "2                        3      1  \n",
      "3                        4      1  \n",
      "4                        4      1  \n",
      "..                     ...    ...  \n",
      "309                      4      1  \n",
      "310                      4      1  \n",
      "311                      4      1  \n",
      "312                      2      1  \n",
      "313                      3      1  \n",
      "\n",
      "[559 rows x 13 columns]\n"
     ]
    }
   ],
   "source": [
    "# Create dataframe for the entire company named df\n",
    "frames = [north_call_df, south_call_df]\n",
    "df = pd.concat(frames)\n",
    "print(df)\n"
   ]
  },
  {
   "cell_type": "markdown",
   "id": "7e87dfd1",
   "metadata": {},
   "source": [
    "#### Manipulation Question 1:  Group by Rep ID and sum the resulting structure. Sort by calls to determine which rep in each branch has the highest number of calls.\n",
    "\n",
    "##### Record your answer by double clicking here:\n",
    "Rep with the hightest number of calls and their total calls:\n",
    "- North Branch = Brent with 37 calls\n",
    "- South Branch = Eric with 35 calls\n"
   ]
  },
  {
   "cell_type": "code",
   "execution_count": 417,
   "id": "3953f09a",
   "metadata": {},
   "outputs": [],
   "source": [
    "# Code Used\n",
    "# Add Additional Cells as needed.\n"
   ]
  },
  {
   "cell_type": "code",
   "execution_count": 418,
   "id": "f088238e",
   "metadata": {},
   "outputs": [
    {
     "data": {
      "text/plain": [
       "Brent     37\n",
       "Lilly     30\n",
       "Todd      29\n",
       "Duke      29\n",
       "Joe       26\n",
       "Cam       24\n",
       "Xander    24\n",
       "Amanda    23\n",
       "Andy      23\n",
       "Name: Rep ID, dtype: int64"
      ]
     },
     "execution_count": 418,
     "metadata": {},
     "output_type": "execute_result"
    }
   ],
   "source": [
    "north_call_df['Rep ID'].value_counts()\n"
   ]
  },
  {
   "cell_type": "code",
   "execution_count": 419,
   "id": "7058c603",
   "metadata": {},
   "outputs": [
    {
     "data": {
      "text/plain": [
       "82"
      ]
     },
     "execution_count": 419,
     "metadata": {},
     "output_type": "execute_result"
    }
   ],
   "source": [
    "calls_rep_north = north_call_df.sort_values(by = ['Rep ID'], ascending = True).value_counts().sum()\n",
    "calls_rep_north"
   ]
  },
  {
   "cell_type": "code",
   "execution_count": 420,
   "id": "48898029",
   "metadata": {},
   "outputs": [
    {
     "data": {
      "text/plain": [
       "126"
      ]
     },
     "execution_count": 420,
     "metadata": {},
     "output_type": "execute_result"
    }
   ],
   "source": [
    "calls_rep_south = south_call_df.sort_values(by =['Rep ID', ], ascending = True).value_counts().sum()\n",
    "calls_rep_south"
   ]
  },
  {
   "cell_type": "code",
   "execution_count": 421,
   "id": "935d829b",
   "metadata": {},
   "outputs": [
    {
     "data": {
      "text/plain": [
       "Eric      35\n",
       "Randy     33\n",
       "Sandy     32\n",
       "Helga     31\n",
       "Kate      29\n",
       "George    29\n",
       "Karl      28\n",
       "Susan     26\n",
       "Josh      26\n",
       "Sharon    25\n",
       "Alice     20\n",
       "Name: Rep ID, dtype: int64"
      ]
     },
     "execution_count": 421,
     "metadata": {},
     "output_type": "execute_result"
    }
   ],
   "source": [
    "south_call_df['Rep ID'].value_counts()"
   ]
  },
  {
   "cell_type": "markdown",
   "id": "809293b9",
   "metadata": {},
   "source": [
    "#### Manipulation Question 2:  The average call abandonment rate is a KPI when it comes to determining call center efficiency. As you may recall, abandoned calls are calls where the customer hangs up due to long call times. What is the average call abandonment rate for each branch and the whole company? Do any of these fall out of the optimal range of 2-5%?\n",
    "##### Record your answer by double clicking here:\n",
    "Average Call Abandonment Rates (round to the nearest hundredth):\n",
    "- North Branch = 2.86%\n",
    "- South Branch = 1.27%\n",
    "- Company Wide = 1.97%\n",
    "- Do any of these fall out of the optimal range of 2-5%?  A: It does not appear so. "
   ]
  },
  {
   "cell_type": "code",
   "execution_count": 422,
   "id": "3dff7534",
   "metadata": {},
   "outputs": [
    {
     "data": {
      "text/plain": [
       "0.02857142857142857"
      ]
     },
     "execution_count": 422,
     "metadata": {},
     "output_type": "execute_result"
    }
   ],
   "source": [
    "# Code Used\n",
    "# Add Additional Cells as needed.\n",
    "\n",
    "# Average abandoned calls for the north call center\n",
    "north_abandoned = north_call_df['Abandoned'].mean()\n",
    "north_abandoned"
   ]
  },
  {
   "cell_type": "code",
   "execution_count": 423,
   "id": "ac946b36",
   "metadata": {},
   "outputs": [
    {
     "data": {
      "text/plain": [
       "0.012738853503184714"
      ]
     },
     "execution_count": 423,
     "metadata": {},
     "output_type": "execute_result"
    }
   ],
   "source": [
    "# Average abandoned calls for the south call center\n",
    "\n",
    "south_abandoned = south_call_df['Abandoned'].mean()\n",
    "south_abandoned"
   ]
  },
  {
   "cell_type": "code",
   "execution_count": 424,
   "id": "a537b4e0",
   "metadata": {},
   "outputs": [
    {
     "data": {
      "text/plain": [
       "0.01967799642218247"
      ]
     },
     "execution_count": 424,
     "metadata": {},
     "output_type": "execute_result"
    }
   ],
   "source": [
    "# Average abandoned calls for company wide\n",
    "\n",
    "total_abandoned = df['Abandoned'].mean()\n",
    "total_abandoned"
   ]
  },
  {
   "cell_type": "markdown",
   "id": "598bb1bf",
   "metadata": {},
   "source": [
    "#### Manipulation Question 3:  Service level is another KPI when it comes to measuring call center efficiency. Service level is the percentage of calls answered within a specific number of seconds. In the case of your employer, their ideal time frame is 2 seconds. What is the percentage of calls answered within 2 seconds for each branch and the entire company?\n",
    "##### Record your answer by double clicking here:\n",
    "Percentage of calls answered within 2 seconds, include # of calls:\n",
    "- North Branch = 40.24% with 33 calls\n",
    "- South Branch = 38.1% with 48 calls\n",
    "- Company Wide = 38.94% with 81 calls"
   ]
  },
  {
   "cell_type": "code",
   "execution_count": 425,
   "id": "2fc8f669",
   "metadata": {},
   "outputs": [
    {
     "name": "stdout",
     "output_type": "stream",
     "text": [
      "33\n"
     ]
    },
    {
     "data": {
      "text/plain": [
       "40.24"
      ]
     },
     "execution_count": 425,
     "metadata": {},
     "output_type": "execute_result"
    }
   ],
   "source": [
    "# Code Used\n",
    "# Add Additional Cells as needed.\n",
    "north_call_answered_fast = (north_call_df['Incoming Wait Time'] <= 2).sum()\n",
    "print(north_call_answered_fast)\n",
    "total_north_incoming_calls = (north_call_df['Incoming or Outgoing'] == 'Incoming').sum()\n",
    "(north_call_answered_fast/total_north_incoming_calls*100).round(2)"
   ]
  },
  {
   "cell_type": "code",
   "execution_count": 426,
   "id": "e690caa5",
   "metadata": {},
   "outputs": [
    {
     "name": "stdout",
     "output_type": "stream",
     "text": [
      "48\n"
     ]
    },
    {
     "data": {
      "text/plain": [
       "38.1"
      ]
     },
     "execution_count": 426,
     "metadata": {},
     "output_type": "execute_result"
    }
   ],
   "source": [
    "# South Call incoming\n",
    "south_call_answered_fast = (south_call_df['Incoming Wait Time']<=2).sum()\n",
    "print(south_call_answered_fast)\n",
    "total_south_incoming_calls = (south_call_df['Incoming or Outgoing'] == 'Incoming').sum()\n",
    "(south_call_answered_fast/total_south_incoming_calls*100).round(2)"
   ]
  },
  {
   "cell_type": "code",
   "execution_count": 427,
   "id": "32a24bfd",
   "metadata": {},
   "outputs": [
    {
     "name": "stdout",
     "output_type": "stream",
     "text": [
      "81\n"
     ]
    },
    {
     "data": {
      "text/plain": [
       "38.94"
      ]
     },
     "execution_count": 427,
     "metadata": {},
     "output_type": "execute_result"
    }
   ],
   "source": [
    "# company wide incoming\n",
    "df_call_answered_fast = (df['Incoming Wait Time']<=2).sum()\n",
    "print(df_call_answered_fast)\n",
    "total_df_incoming_calls = (df['Incoming or Outgoing'] == 'Incoming').sum()\n",
    "(df_call_answered_fast/total_df_incoming_calls*100).round(2)"
   ]
  },
  {
   "cell_type": "markdown",
   "id": "7e19e705",
   "metadata": {},
   "source": [
    "#### Manipulation Question 4: For each branch and the entire company, what is the average speed of answer?\n",
    "##### Record your answer by double clicking here:\n",
    "Average speed of answer (rounded to nearest hundredth):\n",
    "- North Branch in seconds = 3.05\n",
    "- South Branch in seconds = 3.00\n",
    "- Company Wide in seconds = 3.02\n"
   ]
  },
  {
   "cell_type": "code",
   "execution_count": 428,
   "id": "72a653ed",
   "metadata": {},
   "outputs": [
    {
     "data": {
      "text/plain": [
       "3.05"
      ]
     },
     "execution_count": 428,
     "metadata": {},
     "output_type": "execute_result"
    }
   ],
   "source": [
    "#Average Speed of answer for the north call center\n",
    "\n",
    "north_speed = north_call_df['Incoming Wait Time'].sum()\n",
    "north_calls = (north_call_df['Incoming or Outgoing'] == 'Incoming').sum()\n",
    "(north_speed/north_calls).round(2)"
   ]
  },
  {
   "cell_type": "code",
   "execution_count": 429,
   "id": "6316204d",
   "metadata": {},
   "outputs": [
    {
     "data": {
      "text/plain": [
       "3.0"
      ]
     },
     "execution_count": 429,
     "metadata": {},
     "output_type": "execute_result"
    }
   ],
   "source": [
    "# Average speed of answer for the south call center\n",
    "\n",
    "south_speed = south_call_df['Incoming Wait Time'].sum()\n",
    "south_calls = (south_call_df['Incoming or Outgoing'] == 'Incoming').sum()\n",
    "(south_speed/south_calls).round(2)               "
   ]
  },
  {
   "cell_type": "code",
   "execution_count": 430,
   "id": "066b6055",
   "metadata": {},
   "outputs": [
    {
     "data": {
      "text/plain": [
       "3.02"
      ]
     },
     "execution_count": 430,
     "metadata": {},
     "output_type": "execute_result"
    }
   ],
   "source": [
    "# Average speed of answer for company wide\n",
    "\n",
    "total_speed = df['Incoming Wait Time'].sum()\n",
    "total_calls = (df['Incoming or Outgoing'] == 'Incoming').sum()\n",
    "(total_speed/total_calls).round(2)"
   ]
  },
  {
   "cell_type": "markdown",
   "id": "ba3ca2cd",
   "metadata": {},
   "source": [
    "<span style=\"background-color:orangered; color:orangered;\">- - - - - - - - - - - - - - - - - - - - - - - - - - - - - - - - - - - - - - - - - - - - - - - - - - - - - - - - - - - - - - - - - - - - - - - - - - - - - - - - - - - - - - - - -</span>"
   ]
  },
  {
   "cell_type": "markdown",
   "id": "d5f50a40",
   "metadata": {},
   "source": [
    "## Visualization\n",
    "\n",
    "Create a visualization for each of the following questions. Some of the code to handle aggregating and storing data may be written for you. For each visualization, you choose the chart style that you feel suits the situation best. Make note of the chart style you chose and why. \n",
    "\n",
    "*NOTE Some questions you may decide to use more than one chart and or chart style."
   ]
  },
  {
   "cell_type": "markdown",
   "id": "66ccf83c",
   "metadata": {},
   "source": [
    "#### Visualization 1:  What is the average abandonment rate per queue?\n",
    "##### Record your answer by double clicking here:\n",
    "\n",
    "> Chart style you chose and why: I chose the bar chart because it is the clearest  chart to show the difference between the two variable for each queue."
   ]
  },
  {
   "cell_type": "code",
   "execution_count": 431,
   "id": "c971d779",
   "metadata": {},
   "outputs": [
    {
     "name": "stdout",
     "output_type": "stream",
     "text": [
      "{'A': 0.041666666666666664, 'B': 0.020134228187919462, 'C': 0.007246376811594203, 'D': 0.017045454545454544}\n",
      "       Abandoned  Busy Minutes  Not Ready Minutes  Incoming Wait Time  \\\n",
      "Queue                                                                   \n",
      "A              4           946                181               116.0   \n",
      "B              3          1501                288               134.0   \n",
      "C              1          1409                251               160.0   \n",
      "D              3          1748                349               218.0   \n",
      "\n",
      "       During Call Wait Time  Calls  \n",
      "Queue                                \n",
      "A                        272     96  \n",
      "B                        455    149  \n",
      "C                        435    138  \n",
      "D                        531    176  \n"
     ]
    },
    {
     "data": {
      "image/png": "[encoded data removed]",
      "text/plain": [
       "<Figure size 432x288 with 1 Axes>"
      ]
     },
     "metadata": {
      "needs_background": "light"
     },
     "output_type": "display_data"
    }
   ],
   "source": [
    "# Create visualization 1 here\n",
    "# Import any additional libraries needed with alias\n",
    "import seaborn as sb\n",
    "import matplotlib.pyplot as plt\n",
    "\n",
    "\n",
    "# The dictionary abandonment_rates has the data you need.\n",
    "abandonment_rates = {}\n",
    "queues = [\"A\", \"B\", \"C\", \"D\"]\n",
    "queue_dict = df.groupby(\"Queue\").agg(\"sum\")\n",
    "for i in range(4):\n",
    "    abandonment_rates[queues[i]] = queue_dict[\"Abandoned\"][i] / queue_dict[\"Calls\"][i] \n",
    "\n",
    "#Your Code Here:\n",
    "print(abandonment_rates)\n",
    "print(queue_dict)\n",
    "#plt.barh(abandonment_rates['who'], abondonment_rates['fare'],color = ['#F0F8FF','#E6E6FA','#B0E0E6']) \n",
    "\n",
    "# y = abandonment_rates\n",
    "# x = queues\n",
    "# y_pos = np.arange(len(y))\n",
    "\n",
    "# Legend\n",
    "\n",
    "\n",
    "keys = abandonment_rates.keys()\n",
    "values = abandonment_rates.values()\n",
    "\n",
    "plt.title('Average Abandonment Rates Per Queue')\n",
    "plt.xlabel('Queues')\n",
    "plt.ylabel('Abandonment Calls')\n",
    "plt.bar(keys, values, align = 'center' )\n",
    "plt.savefig('bar.png')\n",
    "plt.show()"
   ]
  },
  {
   "cell_type": "markdown",
   "id": "4a9fc77f",
   "metadata": {},
   "source": [
    "#### Visualization 2: What is the service level percentage and average speed of answer for each rep in the North Branch?\n",
    "##### Record your answer by double clicking here:\n",
    "\n",
    "> Chart style you chose and why: I chose the grouped bar chart.  The graph shows each Rep from the North Branch and compares the service level percentage and the average speed. "
   ]
  },
  {
   "cell_type": "code",
   "execution_count": 432,
   "id": "61f65a7f",
   "metadata": {},
   "outputs": [
    {
     "data": {
      "image/png": "[encoded data removed]",
      "text/plain": [
       "<Figure size 432x288 with 2 Axes>"
      ]
     },
     "metadata": {
      "needs_background": "light"
     },
     "output_type": "display_data"
    }
   ],
   "source": [
    "# Create visualization 2 here\n",
    "import seaborn as sns\n",
    "import matplotlib.pyplot as plt\n",
    "import numpy as np\n",
    "\n",
    "# north_plt contains the data you need for the average speed of answer of each rep\n",
    "\n",
    "north_plt = north_call_df.groupby(\"Rep ID\")[\"Incoming Wait Time\"].mean().to_frame().reset_index()\n",
    "\n",
    "# Finding each Rep's Personal Service Level Percentage.  Basically, Calls within 2 secs / total calls\n",
    "\n",
    "# Table 1: Total Incoming calls less than 2 seconds grouped by Rep\n",
    "quick_calls = north_call_df[north_call_df[\"Incoming Wait Time\"] <= 2.0]\n",
    "quick_reps = quick_calls[[\"Rep ID\", \"Calls\"]]\n",
    "quick_stats = quick_reps.groupby([\"Rep ID\"]).sum()  # Final Table\n",
    "\n",
    "\n",
    "# Table 2: Total Incoming Calls Only grouped by Rep\n",
    "total_calls_in = north_call_df[north_call_df[\"Incoming or Outgoing\"] == \"Incoming\"]\n",
    "rep_calls = total_calls_in[[\"Rep ID\", \"Calls\"]]     \n",
    "total_stats = rep_calls.groupby([\"Rep ID\"]).sum() # Final Table  \n",
    "\n",
    "#  Table 3: Service Level Percentage created via merge\n",
    "service_level = pd.merge(quick_stats, total_stats, on=\"Rep ID\")\n",
    "\n",
    "# Create Percentage Column in Table 3\n",
    "service_level[\"Service Level %\"] = service_level[\"Calls_x\"]/service_level[\"Calls_y\"] * 100\n",
    "\n",
    "# Printing tables\n",
    "# print(north_plt)\n",
    "# print(service_level)\n",
    "# print(total_stats)\n",
    "# print(quick_stats)\n",
    "\n",
    "#Your Code Here:\n",
    "\n",
    "fig, ax1 = plt.subplots()\n",
    "\n",
    "width=0.2\n",
    "\n",
    "ax2 = ax1.twinx()\n",
    "ax2.grid(False)\n",
    "\n",
    "#plot line chart on axis #1\n",
    "north_plt.plot(kind='bar', color='blue', ax=ax1, width=width, position=1)\n",
    "service_level['Service Level %'].plot(kind='bar', color='green', ax=ax2, width=width, position=0)\n",
    "\n",
    "ax1.set_ylabel('Incoming Wait Time')\n",
    "ax2.set_ylabel('Service Level %')\n",
    "plt.title('Incoming Wait Time and Service Level % for North Branch')\n",
    "plt.xlabel('Rep ID')\n",
    "# ax1.legend(loc='upper center', bbox_to_anchor=(0.5, -0.20),\n",
    "#           fancybox=True, shadow=True, ncol=5)\n",
    "# Code for Legend Combined\n",
    "# handles,labels = [],[]\n",
    "# for ax in fig.axes:\n",
    "#     for h,l in zip(*ax.get_legend_handles_labels()):\n",
    "#         handles.append(h)\n",
    "#         labels.append(l)\n",
    "\n",
    "# plt.legend(handles,labels, loc=2)\n",
    "\n",
    "#fig.legend(loc=\"upper right\")\n",
    "\n",
    "# ax1.legend(bbox_to_anchor=(1.5, 0.5), loc=\"center\",\n",
    "#                 bbox_transform=fig.transFigure, ncol=3)\n",
    "# ax2.legend(bbox_to_anchor=(1.5, 0.5), loc=\"center\")\n",
    "# plt.show()\n",
    "ax1.legend(bbox_to_anchor=(1.3, 0.5), loc=\"upper right\",\n",
    "                bbox_transform=fig.transFigure, ncol=3)\n",
    "ax2.legend(bbox_to_anchor=(1.5, 0.6), loc=\"upper right\")\n",
    "plt.show()\n",
    "\n",
    "plt.show()"
   ]
  },
  {
   "cell_type": "markdown",
   "id": "f965e41a",
   "metadata": {},
   "source": [
    "#### Visualization 3: For each type of call purpose, how many calls are outgoing vs. incoming?\n",
    "##### Record your answer by double clicking here:\n",
    "\n",
    "> Chart style you chose and why: Similar to the graph above, I chose a grouped bar graph again.  Comparing this type of data seemed to be the best choice visually. I needed to compare incoming and outgoing calls up against 3 different call purposes.  In order to do this I created two new dictionaries one for incoming calls, and a second for outgoing calls.  Then I was able to group the call purpose on the x axis and show the comparison for each incoming and outgoing calls. But by using this method, it makes my code static since the values I had to manually put in.  If in a real world situation, it would be better to know how to get the values to automatically update.  "
   ]
  },
  {
   "cell_type": "code",
   "execution_count": 433,
   "id": "44096730",
   "metadata": {},
   "outputs": [
    {
     "name": "stdout",
     "output_type": "stream",
     "text": [
      "Call Purpose     Incoming or Outgoing\n",
      "Complaint        Incoming                 51\n",
      "Product Support  Outgoing                228\n",
      "                 Incoming                 82\n",
      "Sales Support    Outgoing                123\n",
      "                 Incoming                 75\n",
      "Name: Incoming or Outgoing, dtype: int64\n"
     ]
    },
    {
     "data": {
      "text/plain": [
       "<AxesSubplot:title={'center':'Incoming vs. Outgoing Calls'}, xlabel='Call Purpose', ylabel='Number of Calls'>"
      ]
     },
     "execution_count": 433,
     "metadata": {},
     "output_type": "execute_result"
    },
    {
     "data": {
      "image/png": "[encoded data removed]",
      "text/plain": [
       "<Figure size 432x288 with 1 Axes>"
      ]
     },
     "metadata": {
      "needs_background": "light"
     },
     "output_type": "display_data"
    }
   ],
   "source": [
    "# Create visualization 3 here:\n",
    "# The three dictionaries, complaints, sales_support, and product_support, have the information you need\n",
    "\n",
    "purpose_group = df.groupby(\"Call Purpose\")\n",
    "call_purpose = [\"Complaint\", \"Product Support\", \"Sales Support\"]\n",
    "purpose_counts = purpose_group[\"Incoming or Outgoing\"].value_counts()\n",
    "print(purpose_counts)\n",
    "\n",
    "complaints = purpose_counts[\"Complaint\"].to_dict()\n",
    "sales_support = purpose_counts[\"Sales Support\"].to_dict()\n",
    "product_support = purpose_counts[\"Product Support\"].to_dict()\n",
    "\n",
    "\n",
    "#Your Code Here:\n",
    "\n",
    "#Create incoming dictionary\n",
    "incoming_dict = {\n",
    "    'complaint' : 51,\n",
    "    'sales_support':75,\n",
    "    'product_support':82\n",
    "}\n",
    "\n",
    "#Create Outgoing dictionay\n",
    "outgoing_dict = {\n",
    "    'complaint':0,\n",
    "    'sales_support':123,\n",
    "    'product_support':228\n",
    "}\n",
    "\n",
    "\n",
    "\n",
    "d = {\n",
    "    'Incoming Calls' : incoming_dict,\n",
    "    'Outgoing Calls' : outgoing_dict\n",
    "}\n",
    "pd.DataFrame(d).plot(kind='bar', title='Incoming vs. Outgoing Calls', ylabel='Number of Calls', xlabel='Call Purpose')\n",
    "# x=np.arange(len(call_purpose))\n",
    "# y1 = incoming_dict\n",
    "# y1 = outgoing_dict\n",
    "\n",
    "# width=0.4\n",
    "\n",
    "# plt.bar(x-0.2, y1, width)\n",
    "# plt.bar(x+0.2, y2, width)"
   ]
  },
  {
   "cell_type": "markdown",
   "id": "b24f650b",
   "metadata": {},
   "source": [
    "<span style=\"background-color:orangered; color:orangered;\">- - - - - - - - - - - - - - - - - - - - - - - - - - - - - - - - - - - - - - - - - - - - - - - - - - - - - - - - - - - - - - - - - - - - - - - - - - - - - - - - - - - - - - - - -</span>"
   ]
  },
  {
   "cell_type": "markdown",
   "id": "ea7ed568",
   "metadata": {},
   "source": [
    "## Summarize Your Work\n",
    "\n",
    "With what you know now about the two call centers and the entire company, answer the following questions. Note that while this is subjective, you should include relevant data to back up your opinion.\n"
   ]
  },
  {
   "cell_type": "markdown",
   "id": "d2fc3d13",
   "metadata": {},
   "source": [
    "#### Summary Question 1:  Using KPIs such as average abandonment rate, service level and average speed of answer, in your opinion, which one of the two branches is operating more efficiently? Why?\n",
    "\n",
    "##### Record your answer by double clicking here:\n",
    "> Your Answer: I think the South Branch is working more efficiently.  They have less abondonment rates.  Their average speed of answer a not much quicker than the north but it is by a small percentage.  But they are also taking more calls than the north branch.  If the north branch were to take on the same amount of calls, I don't think they would be able to keep the same speed as the south branch. \n",
    "\n"
   ]
  },
  {
   "cell_type": "markdown",
   "id": "489f28d6",
   "metadata": {},
   "source": [
    "#### Summary Question 2: Based on the number of reps in each branch and how quickly the reps are working, in your opinion, which branch would benefit from the extra help?\n",
    "\n",
    "##### Record your answer by double clicking here:\n",
    "> Your Answer: I believe the North Branch would benefit from extra help.  Though their answer times are working within the desired range, they have many more abandoned calls compared to the south branch. they are recieving less calls, but the abondonment rate needs to be addressed. I think this would help balance out the average wait time to the service level for the north branch. \n"
   ]
  },
  {
   "cell_type": "markdown",
   "id": "0b10a8c3",
   "metadata": {},
   "source": [
    "#### Summary Question 3: Now that you have explored the datasets, is there any data or information that you wish you had in this analysis?\n",
    "\n",
    "##### Record your answer by double clicking here:\n",
    "> Your Answer: I felt like the data was very complete for the task. If anything, maybe the hours that the reps are working and taking calls?  I would like to know if the times match up the each branch and how they compare.  If one branch turns out is less busy and Reps are working less It wouldn't make sense to add the 5 new team members to that branch.  That would be the only other thing I can think of exploring.  But that might be do indepth for the project.  I think the data presented is well rounded.  \n"
   ]
  },
  {
   "cell_type": "markdown",
   "id": "5f75ec19",
   "metadata": {},
   "source": [
    "<span style=\"background-color:orangered; color:orangered;\">- - - - - - - - - - - - - - - - - - - - - - - - - - - - - - - - - - - - - - - - - - - - - - - - - - - - - - - - - - - - - - - - - - - - - - - - - - - - - - - - - - - - - - - - -</span>"
   ]
  },
  {
   "cell_type": "markdown",
   "id": "ce16f43d",
   "metadata": {},
   "source": [
    "## Bonus Mission\n",
    "Create a visualization that answers this question: For each call purpose, how many calls (incoming and outgoing) take place in each time block?\n",
    "##### Record your answer by double clicking here:\n",
    "\n",
    "> Chart style you chose and why: "
   ]
  },
  {
   "cell_type": "code",
   "execution_count": 462,
   "id": "71b04f32",
   "metadata": {},
   "outputs": [
    {
     "data": {
      "text/html": [
       "<div>\n",
       "<style scoped>\n",
       "    .dataframe tbody tr th:only-of-type {\n",
       "        vertical-align: middle;\n",
       "    }\n",
       "\n",
       "    .dataframe tbody tr th {\n",
       "        vertical-align: top;\n",
       "    }\n",
       "\n",
       "    .dataframe thead th {\n",
       "        text-align: right;\n",
       "    }\n",
       "</style>\n",
       "<table border=\"1\" class=\"dataframe\">\n",
       "  <thead>\n",
       "    <tr style=\"text-align: right;\">\n",
       "      <th></th>\n",
       "      <th>Time Block</th>\n",
       "      <th>Call Purpose</th>\n",
       "      <th>Incoming or Outgoing</th>\n",
       "      <th>Calls</th>\n",
       "    </tr>\n",
       "  </thead>\n",
       "  <tbody>\n",
       "    <tr>\n",
       "      <th>0</th>\n",
       "      <td>9:00 AM</td>\n",
       "      <td>Complaint</td>\n",
       "      <td>Incoming</td>\n",
       "      <td>1</td>\n",
       "    </tr>\n",
       "    <tr>\n",
       "      <th>1</th>\n",
       "      <td>11:00 AM</td>\n",
       "      <td>Sales Support</td>\n",
       "      <td>Incoming</td>\n",
       "      <td>1</td>\n",
       "    </tr>\n",
       "    <tr>\n",
       "      <th>2</th>\n",
       "      <td>11:00 AM</td>\n",
       "      <td>Sales Support</td>\n",
       "      <td>Incoming</td>\n",
       "      <td>1</td>\n",
       "    </tr>\n",
       "    <tr>\n",
       "      <th>3</th>\n",
       "      <td>4:00 PM</td>\n",
       "      <td>Sales Support</td>\n",
       "      <td>Incoming</td>\n",
       "      <td>1</td>\n",
       "    </tr>\n",
       "    <tr>\n",
       "      <th>4</th>\n",
       "      <td>12:00 PM</td>\n",
       "      <td>Product Support</td>\n",
       "      <td>Incoming</td>\n",
       "      <td>1</td>\n",
       "    </tr>\n",
       "    <tr>\n",
       "      <th>...</th>\n",
       "      <td>...</td>\n",
       "      <td>...</td>\n",
       "      <td>...</td>\n",
       "      <td>...</td>\n",
       "    </tr>\n",
       "    <tr>\n",
       "      <th>309</th>\n",
       "      <td>5:00 PM</td>\n",
       "      <td>Product Support</td>\n",
       "      <td>Outgoing</td>\n",
       "      <td>1</td>\n",
       "    </tr>\n",
       "    <tr>\n",
       "      <th>310</th>\n",
       "      <td>5:00 PM</td>\n",
       "      <td>Product Support</td>\n",
       "      <td>Outgoing</td>\n",
       "      <td>1</td>\n",
       "    </tr>\n",
       "    <tr>\n",
       "      <th>311</th>\n",
       "      <td>5:00 PM</td>\n",
       "      <td>Product Support</td>\n",
       "      <td>Outgoing</td>\n",
       "      <td>1</td>\n",
       "    </tr>\n",
       "    <tr>\n",
       "      <th>312</th>\n",
       "      <td>5:00 PM</td>\n",
       "      <td>Product Support</td>\n",
       "      <td>Outgoing</td>\n",
       "      <td>1</td>\n",
       "    </tr>\n",
       "    <tr>\n",
       "      <th>313</th>\n",
       "      <td>5:00 PM</td>\n",
       "      <td>Product Support</td>\n",
       "      <td>Outgoing</td>\n",
       "      <td>1</td>\n",
       "    </tr>\n",
       "  </tbody>\n",
       "</table>\n",
       "<p>559 rows × 4 columns</p>\n",
       "</div>"
      ],
      "text/plain": [
       "    Time Block     Call Purpose Incoming or Outgoing  Calls\n",
       "0      9:00 AM        Complaint             Incoming      1\n",
       "1     11:00 AM    Sales Support             Incoming      1\n",
       "2     11:00 AM    Sales Support             Incoming      1\n",
       "3      4:00 PM    Sales Support             Incoming      1\n",
       "4     12:00 PM  Product Support             Incoming      1\n",
       "..         ...              ...                  ...    ...\n",
       "309    5:00 PM  Product Support             Outgoing      1\n",
       "310    5:00 PM  Product Support             Outgoing      1\n",
       "311    5:00 PM  Product Support             Outgoing      1\n",
       "312    5:00 PM  Product Support             Outgoing      1\n",
       "313    5:00 PM  Product Support             Outgoing      1\n",
       "\n",
       "[559 rows x 4 columns]"
      ]
     },
     "metadata": {},
     "output_type": "display_data"
    },
    {
     "data": {
      "text/plain": [
       "Product Support    310\n",
       "Sales Support      198\n",
       "Complaint           51\n",
       "Name: Call Purpose, dtype: int64"
      ]
     },
     "metadata": {},
     "output_type": "display_data"
    }
   ],
   "source": [
    "# Create your Bonus Mission visualization here!\n",
    "call_times = df[[\"Time Block\", \"Call Purpose\", \"Incoming or Outgoing\", \"Calls\"]]\n",
    "call_purposes = df[\"Call Purpose\"].value_counts()\n",
    "calls\n",
    "\n",
    "\n",
    "\n",
    "display(call_times)\n",
    "display(call_purposes)\n",
    "# Use groupby to plot based on time blocks:\n",
    "# time_grp = df.groupby('Time Block')\n",
    "# display(call_times)\n",
    "# time_grp.first()\n",
    "# # Use groupby and get_group to select which call purpose to plot:\n",
    "#time_get_group = df.groupy('Time Block').get_group()"
   ]
  },
  {
   "cell_type": "code",
   "execution_count": 459,
   "id": "226113de",
   "metadata": {},
   "outputs": [],
   "source": [
    "#time_grp.get_group(df['Time Block'])"
   ]
  }
 ],
 "metadata": {
  "kernelspec": {
   "display_name": "Python 3 (ipykernel)",
   "language": "python",
   "name": "python3"
  },
  "language_info": {
   "codemirror_mode": {
    "name": "ipython",
    "version": 3
   },
   "file_extension": ".py",
   "mimetype": "text/x-python",
   "name": "python",
   "nbconvert_exporter": "python",
   "pygments_lexer": "ipython3",
   "version": "3.9.12"
  }
 },
 "nbformat": 4,
 "nbformat_minor": 5
}
